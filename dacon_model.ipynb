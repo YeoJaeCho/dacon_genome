{
 "cells": [
  {
   "cell_type": "code",
   "execution_count": 121,
   "id": "b84c8f41-8c9f-4e9c-9969-e98541e822af",
   "metadata": {},
   "outputs": [],
   "source": [
    "import pandas as pd\n",
    "import random\n",
    "import os\n",
    "import numpy as np\n",
    "\n",
    "from sklearn import preprocessing\n",
    "from sklearn.model_selection import train_test_split\n",
    "from sklearn.ensemble import RandomForestClassifier\n",
    "from sklearn.metrics import f1_score"
   ]
  },
  {
   "cell_type": "code",
   "execution_count": 2,
   "id": "824a7f14-b0f5-49c8-b030-1fe9873c46f9",
   "metadata": {},
   "outputs": [],
   "source": [
    "class CFG:\n",
    "    SEED = 42"
   ]
  },
  {
   "cell_type": "code",
   "execution_count": 3,
   "id": "1d06422f-e260-46ad-846f-0cfa40d2801b",
   "metadata": {},
   "outputs": [],
   "source": [
    "def seed_everything(seed):\n",
    "    random.seed(seed)\n",
    "    os.environ['PYTHONHASHSEED'] = str(seed)\n",
    "    np.random.seed(seed)\n",
    "seed_everything(CFG.SEED) # Seed 고정"
   ]
  },
  {
   "cell_type": "markdown",
   "id": "b9e7de47-f4b8-4589-b9d3-e353a975e939",
   "metadata": {},
   "source": [
    "## 데이터 불러오기"
   ]
  },
  {
   "cell_type": "code",
   "execution_count": 28,
   "id": "34f899fd-fbb4-48bc-9ec5-3eb5a68564cb",
   "metadata": {},
   "outputs": [],
   "source": [
    "train = pd.read_csv('./train.csv')\n",
    "test = pd.read_csv('./test.csv')"
   ]
  },
  {
   "cell_type": "markdown",
   "id": "cbdb78a3",
   "metadata": {},
   "source": [
    "## 데이터 살펴보기"
   ]
  },
  {
   "cell_type": "markdown",
   "id": "2def885e",
   "metadata": {},
   "source": [
    "        train.csv [파일]\n",
    "        id : 개체 고유 ID\n",
    "        개체정보\n",
    "            father : 개체의 가계 고유 번호 (0 : Unknown)\n",
    "            mother : 개체의 모계 고유 번호 (0 : Unknown)\n",
    "            gender : 개체 성별 (0 : Unknown, 1 : female, 2 : male)\n",
    "            trait : 개체 표현형 정보 \n",
    "        15개의 SNP 정보 : SNP_01 ~ SNP_15\n",
    "        class : 개체의 품종 (A,B,C)\n",
    "\n",
    "\n",
    "        test.csv [파일]\n",
    "        id : 개체 샘플 별 고유 ID\n",
    "        개체정보\n",
    "            father : 개체의 가계 고유 번호 (0 : Unknown)\n",
    "            mother : 개체의 모계 고유 번호 (0 : Unknown)\n",
    "            gender : 개체 성별 (0 : Unknown, 1 : female, 2 : male)\n",
    "            trait : 개체 표현형 정보 \n",
    "        15개의 SNP 정보 : SNP_01 ~ SNP_15"
   ]
  },
  {
   "cell_type": "code",
   "execution_count": 5,
   "id": "5a5f7bca",
   "metadata": {
    "scrolled": true
   },
   "outputs": [
    {
     "data": {
      "text/html": [
       "<div>\n",
       "<style scoped>\n",
       "    .dataframe tbody tr th:only-of-type {\n",
       "        vertical-align: middle;\n",
       "    }\n",
       "\n",
       "    .dataframe tbody tr th {\n",
       "        vertical-align: top;\n",
       "    }\n",
       "\n",
       "    .dataframe thead th {\n",
       "        text-align: right;\n",
       "    }\n",
       "</style>\n",
       "<table border=\"1\" class=\"dataframe\">\n",
       "  <thead>\n",
       "    <tr style=\"text-align: right;\">\n",
       "      <th></th>\n",
       "      <th>id</th>\n",
       "      <th>father</th>\n",
       "      <th>mother</th>\n",
       "      <th>gender</th>\n",
       "      <th>trait</th>\n",
       "      <th>SNP_01</th>\n",
       "      <th>SNP_02</th>\n",
       "      <th>SNP_03</th>\n",
       "      <th>SNP_04</th>\n",
       "      <th>SNP_05</th>\n",
       "      <th>...</th>\n",
       "      <th>SNP_07</th>\n",
       "      <th>SNP_08</th>\n",
       "      <th>SNP_09</th>\n",
       "      <th>SNP_10</th>\n",
       "      <th>SNP_11</th>\n",
       "      <th>SNP_12</th>\n",
       "      <th>SNP_13</th>\n",
       "      <th>SNP_14</th>\n",
       "      <th>SNP_15</th>\n",
       "      <th>class</th>\n",
       "    </tr>\n",
       "  </thead>\n",
       "  <tbody>\n",
       "    <tr>\n",
       "      <th>0</th>\n",
       "      <td>TRAIN_000</td>\n",
       "      <td>0</td>\n",
       "      <td>0</td>\n",
       "      <td>0</td>\n",
       "      <td>2</td>\n",
       "      <td>G G</td>\n",
       "      <td>A G</td>\n",
       "      <td>A A</td>\n",
       "      <td>G A</td>\n",
       "      <td>C A</td>\n",
       "      <td>...</td>\n",
       "      <td>A A</td>\n",
       "      <td>G G</td>\n",
       "      <td>A A</td>\n",
       "      <td>G G</td>\n",
       "      <td>A G</td>\n",
       "      <td>A A</td>\n",
       "      <td>A A</td>\n",
       "      <td>A A</td>\n",
       "      <td>A A</td>\n",
       "      <td>B</td>\n",
       "    </tr>\n",
       "    <tr>\n",
       "      <th>1</th>\n",
       "      <td>TRAIN_001</td>\n",
       "      <td>0</td>\n",
       "      <td>0</td>\n",
       "      <td>0</td>\n",
       "      <td>2</td>\n",
       "      <td>A G</td>\n",
       "      <td>A G</td>\n",
       "      <td>C A</td>\n",
       "      <td>A A</td>\n",
       "      <td>A A</td>\n",
       "      <td>...</td>\n",
       "      <td>A A</td>\n",
       "      <td>G A</td>\n",
       "      <td>A A</td>\n",
       "      <td>A G</td>\n",
       "      <td>A A</td>\n",
       "      <td>G A</td>\n",
       "      <td>G G</td>\n",
       "      <td>A A</td>\n",
       "      <td>A A</td>\n",
       "      <td>C</td>\n",
       "    </tr>\n",
       "    <tr>\n",
       "      <th>2</th>\n",
       "      <td>TRAIN_002</td>\n",
       "      <td>0</td>\n",
       "      <td>0</td>\n",
       "      <td>0</td>\n",
       "      <td>2</td>\n",
       "      <td>G G</td>\n",
       "      <td>G G</td>\n",
       "      <td>A A</td>\n",
       "      <td>G A</td>\n",
       "      <td>C C</td>\n",
       "      <td>...</td>\n",
       "      <td>A A</td>\n",
       "      <td>G A</td>\n",
       "      <td>G A</td>\n",
       "      <td>A G</td>\n",
       "      <td>A A</td>\n",
       "      <td>A A</td>\n",
       "      <td>A A</td>\n",
       "      <td>A A</td>\n",
       "      <td>A A</td>\n",
       "      <td>B</td>\n",
       "    </tr>\n",
       "    <tr>\n",
       "      <th>3</th>\n",
       "      <td>TRAIN_003</td>\n",
       "      <td>0</td>\n",
       "      <td>0</td>\n",
       "      <td>0</td>\n",
       "      <td>1</td>\n",
       "      <td>A A</td>\n",
       "      <td>G G</td>\n",
       "      <td>A A</td>\n",
       "      <td>G A</td>\n",
       "      <td>A A</td>\n",
       "      <td>...</td>\n",
       "      <td>G G</td>\n",
       "      <td>A A</td>\n",
       "      <td>G G</td>\n",
       "      <td>A G</td>\n",
       "      <td>G G</td>\n",
       "      <td>G G</td>\n",
       "      <td>G G</td>\n",
       "      <td>A A</td>\n",
       "      <td>G G</td>\n",
       "      <td>A</td>\n",
       "    </tr>\n",
       "    <tr>\n",
       "      <th>4</th>\n",
       "      <td>TRAIN_004</td>\n",
       "      <td>0</td>\n",
       "      <td>0</td>\n",
       "      <td>0</td>\n",
       "      <td>2</td>\n",
       "      <td>G G</td>\n",
       "      <td>G G</td>\n",
       "      <td>C C</td>\n",
       "      <td>A A</td>\n",
       "      <td>C C</td>\n",
       "      <td>...</td>\n",
       "      <td>A A</td>\n",
       "      <td>A A</td>\n",
       "      <td>A A</td>\n",
       "      <td>G G</td>\n",
       "      <td>A A</td>\n",
       "      <td>A A</td>\n",
       "      <td>A G</td>\n",
       "      <td>A A</td>\n",
       "      <td>G A</td>\n",
       "      <td>C</td>\n",
       "    </tr>\n",
       "  </tbody>\n",
       "</table>\n",
       "<p>5 rows × 21 columns</p>\n",
       "</div>"
      ],
      "text/plain": [
       "          id  father  mother  gender  trait SNP_01 SNP_02 SNP_03 SNP_04  \\\n",
       "0  TRAIN_000       0       0       0      2    G G    A G    A A    G A   \n",
       "1  TRAIN_001       0       0       0      2    A G    A G    C A    A A   \n",
       "2  TRAIN_002       0       0       0      2    G G    G G    A A    G A   \n",
       "3  TRAIN_003       0       0       0      1    A A    G G    A A    G A   \n",
       "4  TRAIN_004       0       0       0      2    G G    G G    C C    A A   \n",
       "\n",
       "  SNP_05  ... SNP_07 SNP_08 SNP_09 SNP_10 SNP_11 SNP_12 SNP_13 SNP_14 SNP_15  \\\n",
       "0    C A  ...    A A    G G    A A    G G    A G    A A    A A    A A    A A   \n",
       "1    A A  ...    A A    G A    A A    A G    A A    G A    G G    A A    A A   \n",
       "2    C C  ...    A A    G A    G A    A G    A A    A A    A A    A A    A A   \n",
       "3    A A  ...    G G    A A    G G    A G    G G    G G    G G    A A    G G   \n",
       "4    C C  ...    A A    A A    A A    G G    A A    A A    A G    A A    G A   \n",
       "\n",
       "  class  \n",
       "0     B  \n",
       "1     C  \n",
       "2     B  \n",
       "3     A  \n",
       "4     C  \n",
       "\n",
       "[5 rows x 21 columns]"
      ]
     },
     "execution_count": 5,
     "metadata": {},
     "output_type": "execute_result"
    }
   ],
   "source": [
    "train.head()"
   ]
  },
  {
   "cell_type": "code",
   "execution_count": 6,
   "id": "a68b19c5",
   "metadata": {
    "scrolled": false
   },
   "outputs": [
    {
     "data": {
      "text/plain": [
       "id        TRAIN_000\n",
       "father            0\n",
       "mother            0\n",
       "gender            0\n",
       "trait             2\n",
       "SNP_01          G G\n",
       "SNP_02          A G\n",
       "SNP_03          A A\n",
       "SNP_04          G A\n",
       "SNP_05          C A\n",
       "SNP_06          A A\n",
       "SNP_07          A A\n",
       "SNP_08          G G\n",
       "SNP_09          A A\n",
       "SNP_10          G G\n",
       "SNP_11          A G\n",
       "SNP_12          A A\n",
       "SNP_13          A A\n",
       "SNP_14          A A\n",
       "SNP_15          A A\n",
       "class             B\n",
       "Name: 0, dtype: object"
      ]
     },
     "execution_count": 6,
     "metadata": {},
     "output_type": "execute_result"
    }
   ],
   "source": [
    "train.iloc[0]"
   ]
  },
  {
   "cell_type": "code",
   "execution_count": 29,
   "id": "5c15389b",
   "metadata": {},
   "outputs": [
    {
     "data": {
      "text/plain": [
       "(262, 21)"
      ]
     },
     "execution_count": 29,
     "metadata": {},
     "output_type": "execute_result"
    }
   ],
   "source": [
    "train.shape"
   ]
  },
  {
   "cell_type": "code",
   "execution_count": 7,
   "id": "ed5d7e15",
   "metadata": {},
   "outputs": [
    {
     "name": "stdout",
     "output_type": "stream",
     "text": [
      "<class 'pandas.core.frame.DataFrame'>\n",
      "RangeIndex: 262 entries, 0 to 261\n",
      "Data columns (total 21 columns):\n",
      " #   Column  Non-Null Count  Dtype \n",
      "---  ------  --------------  ----- \n",
      " 0   id      262 non-null    object\n",
      " 1   father  262 non-null    int64 \n",
      " 2   mother  262 non-null    int64 \n",
      " 3   gender  262 non-null    int64 \n",
      " 4   trait   262 non-null    int64 \n",
      " 5   SNP_01  262 non-null    object\n",
      " 6   SNP_02  262 non-null    object\n",
      " 7   SNP_03  262 non-null    object\n",
      " 8   SNP_04  262 non-null    object\n",
      " 9   SNP_05  262 non-null    object\n",
      " 10  SNP_06  262 non-null    object\n",
      " 11  SNP_07  262 non-null    object\n",
      " 12  SNP_08  262 non-null    object\n",
      " 13  SNP_09  262 non-null    object\n",
      " 14  SNP_10  262 non-null    object\n",
      " 15  SNP_11  262 non-null    object\n",
      " 16  SNP_12  262 non-null    object\n",
      " 17  SNP_13  262 non-null    object\n",
      " 18  SNP_14  262 non-null    object\n",
      " 19  SNP_15  262 non-null    object\n",
      " 20  class   262 non-null    object\n",
      "dtypes: int64(4), object(17)\n",
      "memory usage: 43.1+ KB\n"
     ]
    }
   ],
   "source": [
    "train.info()  # 결측치 없음"
   ]
  },
  {
   "cell_type": "code",
   "execution_count": 8,
   "id": "41ca8ca0",
   "metadata": {},
   "outputs": [
    {
     "name": "stdout",
     "output_type": "stream",
     "text": [
      "[0]\n",
      "[0]\n",
      "[0]\n",
      "[2 1]\n"
     ]
    }
   ],
   "source": [
    "print(train['father'].unique())\n",
    "print(train['mother'].unique())\n",
    "print(train['gender'].unique())\n",
    "print(train['trait'].unique())"
   ]
  },
  {
   "cell_type": "markdown",
   "id": "63868073",
   "metadata": {},
   "source": [
    "- father, mother, gender는 0값 unknown 즉 결측치이므로 열 삭제 (train과 test 모두)\n",
    "- trait는 1, 2가 존재함을 알 수 있음"
   ]
  },
  {
   "cell_type": "code",
   "execution_count": 9,
   "id": "800c9920",
   "metadata": {},
   "outputs": [
    {
     "name": "stdout",
     "output_type": "stream",
     "text": [
      "SNP_01 :  ['G G' 'A G' 'A A']\n",
      "SNP_02 :  ['A G' 'G G' 'A A']\n",
      "SNP_03 :  ['A A' 'C A' 'C C']\n",
      "SNP_04 :  ['G A' 'A A' 'G G']\n",
      "SNP_05 :  ['C A' 'A A' 'C C']\n",
      "SNP_06 :  ['A A' 'A G' 'G G']\n",
      "SNP_07 :  ['A A' 'G G' 'G A']\n",
      "SNP_08 :  ['G G' 'G A' 'A A']\n",
      "SNP_09 :  ['A A' 'G A' 'G G']\n",
      "SNP_10 :  ['G G' 'A G' 'A A']\n",
      "SNP_11 :  ['A G' 'A A' 'G G']\n",
      "SNP_12 :  ['A A' 'G A' 'G G']\n",
      "SNP_13 :  ['A A' 'G G' 'A G']\n",
      "SNP_14 :  ['A A' 'C C' 'C A']\n",
      "SNP_15 :  ['A A' 'G G' 'G A']\n"
     ]
    }
   ],
   "source": [
    "print('SNP_01 : ', train['SNP_01'].unique())\n",
    "print('SNP_02 : ', train['SNP_02'].unique())\n",
    "print('SNP_03 : ', train['SNP_03'].unique())\n",
    "print('SNP_04 : ', train['SNP_04'].unique())\n",
    "print('SNP_05 : ', train['SNP_05'].unique())\n",
    "print('SNP_06 : ', train['SNP_06'].unique())\n",
    "print('SNP_07 : ', train['SNP_07'].unique())\n",
    "print('SNP_08 : ', train['SNP_08'].unique())\n",
    "print('SNP_09 : ', train['SNP_09'].unique())\n",
    "print('SNP_10 : ', train['SNP_10'].unique())\n",
    "print('SNP_11 : ', train['SNP_11'].unique())\n",
    "print('SNP_12 : ', train['SNP_12'].unique())\n",
    "print('SNP_13 : ', train['SNP_13'].unique())\n",
    "print('SNP_14 : ', train['SNP_14'].unique())\n",
    "print('SNP_15 : ', train['SNP_15'].unique())"
   ]
  },
  {
   "cell_type": "markdown",
   "id": "49635f17",
   "metadata": {},
   "source": [
    "- SNP 정보는 encoding이 필요함"
   ]
  },
  {
   "cell_type": "code",
   "execution_count": 12,
   "id": "72b37f7e-a9f2-4640-8a0c-80ecdc626740",
   "metadata": {},
   "outputs": [],
   "source": [
    "def get_x_y(df):\n",
    "    if 'class' in df.columns:\n",
    "        df_x = df.drop(columns=['id', 'class'])\n",
    "        df_y = df['class']\n",
    "        return df_x, df_y\n",
    "    else:\n",
    "        df_x = df.drop(columns=['id'])\n",
    "        return df_x"
   ]
  },
  {
   "cell_type": "code",
   "execution_count": 13,
   "id": "05bd5dc3-5caf-4691-a836-d05d79353a5d",
   "metadata": {},
   "outputs": [],
   "source": [
    "train_x, train_y = get_x_y(train)\n",
    "test_x = get_x_y(test)"
   ]
  },
  {
   "cell_type": "markdown",
   "id": "4867d0a2",
   "metadata": {},
   "source": [
    "- 불필요한 정보인 id 컬럼 삭제"
   ]
  },
  {
   "cell_type": "markdown",
   "id": "8f79fbb3-bdd5-4bf7-bcc2-3776f1de653b",
   "metadata": {},
   "source": [
    "## 데이터 인코딩\n",
    "### Label-Encoding"
   ]
  },
  {
   "cell_type": "code",
   "execution_count": 31,
   "id": "689a42a5-140f-4282-9f33-6b319dea89a5",
   "metadata": {},
   "outputs": [],
   "source": [
    "class_le = preprocessing.LabelEncoder()\n",
    "snp_le = preprocessing.LabelEncoder()\n",
    "snp_col = [f'SNP_{str(x).zfill(2)}' for x in range(1,16)]"
   ]
  },
  {
   "cell_type": "code",
   "execution_count": 35,
   "id": "2329a4f8-92b2-484d-acbd-2bb8079929e7",
   "metadata": {},
   "outputs": [],
   "source": [
    "snp_data = []\n",
    "for col in snp_col:\n",
    "    snp_data += list(train_x[col].values)"
   ]
  },
  {
   "cell_type": "code",
   "execution_count": 41,
   "id": "f6e940ce",
   "metadata": {},
   "outputs": [
    {
     "data": {
      "text/plain": [
       "3930"
      ]
     },
     "execution_count": 41,
     "metadata": {},
     "output_type": "execute_result"
    }
   ],
   "source": [
    "len(snp_data)"
   ]
  },
  {
   "cell_type": "code",
   "execution_count": 45,
   "id": "8341b0b8",
   "metadata": {},
   "outputs": [
    {
     "name": "stdout",
     "output_type": "stream",
     "text": [
      "(262, 15)\n",
      "3930\n"
     ]
    }
   ],
   "source": [
    "print(train_x.select_dtypes('object').shape)\n",
    "print(train_x.select_dtypes('object').shape[0] * train_x.select_dtypes('object').shape[1])"
   ]
  },
  {
   "cell_type": "code",
   "execution_count": 48,
   "id": "ce732ece",
   "metadata": {},
   "outputs": [
    {
     "data": {
      "text/plain": [
       "array(['B', 'C', 'A'], dtype=object)"
      ]
     },
     "execution_count": 48,
     "metadata": {},
     "output_type": "execute_result"
    }
   ],
   "source": [
    "train_y.unique()"
   ]
  },
  {
   "cell_type": "code",
   "execution_count": 50,
   "id": "be7c4c4e-9c40-4c2e-bbce-5109dc16e802",
   "metadata": {},
   "outputs": [
    {
     "data": {
      "text/plain": [
       "array([1, 2, 1, 0, 2, 1, 1, 1, 1, 2, 1, 1, 2, 2, 1, 0, 0, 0, 0, 2, 1, 1,\n",
       "       0, 1, 2, 1, 1, 1, 1, 0, 1, 0, 1, 1, 0, 2, 1, 0, 1, 1, 1, 1, 1, 0,\n",
       "       2, 1, 1, 0, 2, 0, 0, 2, 0, 2, 1, 1, 0, 0, 2, 2, 1, 0, 2, 2, 0, 2,\n",
       "       2, 0, 1, 2, 2, 2, 0, 1, 1, 1, 2, 1, 2, 0, 1, 1, 2, 0, 2, 0, 2, 2,\n",
       "       2, 1, 1, 1, 2, 2, 1, 1, 2, 0, 0, 1, 0, 1, 0, 1, 0, 1, 0, 1, 1, 2,\n",
       "       1, 1, 1, 1, 1, 1, 1, 0, 2, 2, 1, 1, 2, 0, 0, 1, 1, 0, 2, 2, 2, 0,\n",
       "       1, 2, 0, 1, 2, 0, 2, 1, 1, 2, 2, 1, 1, 1, 2, 2, 0, 1, 0, 2, 2, 2,\n",
       "       1, 0, 1, 1, 1, 1, 1, 0, 1, 2, 1, 1, 1, 0, 0, 2, 2, 0, 0, 2, 2, 2,\n",
       "       2, 0, 2, 0, 0, 2, 0, 2, 2, 1, 1, 2, 1, 2, 2, 1, 1, 1, 0, 1, 1, 2,\n",
       "       1, 2, 0, 1, 0, 1, 0, 2, 2, 1, 2, 1, 2, 1, 0, 0, 1, 2, 0, 0, 2, 1,\n",
       "       0, 1, 1, 1, 0, 1, 1, 1, 1, 0, 2, 2, 1, 2, 1, 2, 1, 0, 2, 0, 0, 2,\n",
       "       2, 1, 1, 1, 0, 1, 0, 1, 0, 2, 1, 0, 1, 1, 1, 1, 2, 0, 0, 1],\n",
       "      dtype=int64)"
      ]
     },
     "execution_count": 50,
     "metadata": {},
     "output_type": "execute_result"
    }
   ],
   "source": [
    "train_y = class_le.fit_transform(train_y)\n",
    "train_y"
   ]
  },
  {
   "cell_type": "code",
   "execution_count": 51,
   "id": "176a8a09",
   "metadata": {},
   "outputs": [
    {
     "data": {
      "text/plain": [
       "LabelEncoder()"
      ]
     },
     "execution_count": 51,
     "metadata": {},
     "output_type": "execute_result"
    }
   ],
   "source": [
    "snp_le.fit(snp_data)"
   ]
  },
  {
   "cell_type": "code",
   "execution_count": 52,
   "id": "6a6855cf-8261-45dd-b18b-660aaf0ab141",
   "metadata": {},
   "outputs": [],
   "source": [
    "for col in train_x.columns:\n",
    "    if col in snp_col:\n",
    "        train_x[col] = snp_le.transform(train_x[col])\n",
    "        test_x[col] = snp_le.transform(test_x[col])"
   ]
  },
  {
   "cell_type": "code",
   "execution_count": 55,
   "id": "94fb6fc8",
   "metadata": {
    "scrolled": true
   },
   "outputs": [
    {
     "data": {
      "text/html": [
       "<div>\n",
       "<style scoped>\n",
       "    .dataframe tbody tr th:only-of-type {\n",
       "        vertical-align: middle;\n",
       "    }\n",
       "\n",
       "    .dataframe tbody tr th {\n",
       "        vertical-align: top;\n",
       "    }\n",
       "\n",
       "    .dataframe thead th {\n",
       "        text-align: right;\n",
       "    }\n",
       "</style>\n",
       "<table border=\"1\" class=\"dataframe\">\n",
       "  <thead>\n",
       "    <tr style=\"text-align: right;\">\n",
       "      <th></th>\n",
       "      <th>father</th>\n",
       "      <th>mother</th>\n",
       "      <th>gender</th>\n",
       "      <th>trait</th>\n",
       "      <th>SNP_01</th>\n",
       "      <th>SNP_02</th>\n",
       "      <th>SNP_03</th>\n",
       "      <th>SNP_04</th>\n",
       "      <th>SNP_05</th>\n",
       "      <th>SNP_06</th>\n",
       "      <th>SNP_07</th>\n",
       "      <th>SNP_08</th>\n",
       "      <th>SNP_09</th>\n",
       "      <th>SNP_10</th>\n",
       "      <th>SNP_11</th>\n",
       "      <th>SNP_12</th>\n",
       "      <th>SNP_13</th>\n",
       "      <th>SNP_14</th>\n",
       "      <th>SNP_15</th>\n",
       "    </tr>\n",
       "  </thead>\n",
       "  <tbody>\n",
       "    <tr>\n",
       "      <th>0</th>\n",
       "      <td>0</td>\n",
       "      <td>0</td>\n",
       "      <td>0</td>\n",
       "      <td>2</td>\n",
       "      <td>5</td>\n",
       "      <td>1</td>\n",
       "      <td>0</td>\n",
       "      <td>4</td>\n",
       "      <td>2</td>\n",
       "      <td>0</td>\n",
       "      <td>0</td>\n",
       "      <td>5</td>\n",
       "      <td>0</td>\n",
       "      <td>5</td>\n",
       "      <td>1</td>\n",
       "      <td>0</td>\n",
       "      <td>0</td>\n",
       "      <td>0</td>\n",
       "      <td>0</td>\n",
       "    </tr>\n",
       "    <tr>\n",
       "      <th>1</th>\n",
       "      <td>0</td>\n",
       "      <td>0</td>\n",
       "      <td>0</td>\n",
       "      <td>2</td>\n",
       "      <td>1</td>\n",
       "      <td>1</td>\n",
       "      <td>2</td>\n",
       "      <td>0</td>\n",
       "      <td>0</td>\n",
       "      <td>1</td>\n",
       "      <td>0</td>\n",
       "      <td>4</td>\n",
       "      <td>0</td>\n",
       "      <td>1</td>\n",
       "      <td>0</td>\n",
       "      <td>4</td>\n",
       "      <td>5</td>\n",
       "      <td>0</td>\n",
       "      <td>0</td>\n",
       "    </tr>\n",
       "    <tr>\n",
       "      <th>2</th>\n",
       "      <td>0</td>\n",
       "      <td>0</td>\n",
       "      <td>0</td>\n",
       "      <td>2</td>\n",
       "      <td>5</td>\n",
       "      <td>5</td>\n",
       "      <td>0</td>\n",
       "      <td>4</td>\n",
       "      <td>3</td>\n",
       "      <td>5</td>\n",
       "      <td>0</td>\n",
       "      <td>4</td>\n",
       "      <td>4</td>\n",
       "      <td>1</td>\n",
       "      <td>0</td>\n",
       "      <td>0</td>\n",
       "      <td>0</td>\n",
       "      <td>0</td>\n",
       "      <td>0</td>\n",
       "    </tr>\n",
       "    <tr>\n",
       "      <th>3</th>\n",
       "      <td>0</td>\n",
       "      <td>0</td>\n",
       "      <td>0</td>\n",
       "      <td>1</td>\n",
       "      <td>0</td>\n",
       "      <td>5</td>\n",
       "      <td>0</td>\n",
       "      <td>4</td>\n",
       "      <td>0</td>\n",
       "      <td>5</td>\n",
       "      <td>5</td>\n",
       "      <td>0</td>\n",
       "      <td>5</td>\n",
       "      <td>1</td>\n",
       "      <td>5</td>\n",
       "      <td>5</td>\n",
       "      <td>5</td>\n",
       "      <td>0</td>\n",
       "      <td>5</td>\n",
       "    </tr>\n",
       "    <tr>\n",
       "      <th>4</th>\n",
       "      <td>0</td>\n",
       "      <td>0</td>\n",
       "      <td>0</td>\n",
       "      <td>2</td>\n",
       "      <td>5</td>\n",
       "      <td>5</td>\n",
       "      <td>3</td>\n",
       "      <td>0</td>\n",
       "      <td>3</td>\n",
       "      <td>0</td>\n",
       "      <td>0</td>\n",
       "      <td>0</td>\n",
       "      <td>0</td>\n",
       "      <td>5</td>\n",
       "      <td>0</td>\n",
       "      <td>0</td>\n",
       "      <td>1</td>\n",
       "      <td>0</td>\n",
       "      <td>4</td>\n",
       "    </tr>\n",
       "  </tbody>\n",
       "</table>\n",
       "</div>"
      ],
      "text/plain": [
       "   father  mother  gender  trait  SNP_01  SNP_02  SNP_03  SNP_04  SNP_05  \\\n",
       "0       0       0       0      2       5       1       0       4       2   \n",
       "1       0       0       0      2       1       1       2       0       0   \n",
       "2       0       0       0      2       5       5       0       4       3   \n",
       "3       0       0       0      1       0       5       0       4       0   \n",
       "4       0       0       0      2       5       5       3       0       3   \n",
       "\n",
       "   SNP_06  SNP_07  SNP_08  SNP_09  SNP_10  SNP_11  SNP_12  SNP_13  SNP_14  \\\n",
       "0       0       0       5       0       5       1       0       0       0   \n",
       "1       1       0       4       0       1       0       4       5       0   \n",
       "2       5       0       4       4       1       0       0       0       0   \n",
       "3       5       5       0       5       1       5       5       5       0   \n",
       "4       0       0       0       0       5       0       0       1       0   \n",
       "\n",
       "   SNP_15  \n",
       "0       0  \n",
       "1       0  \n",
       "2       0  \n",
       "3       5  \n",
       "4       4  "
      ]
     },
     "execution_count": 55,
     "metadata": {},
     "output_type": "execute_result"
    }
   ],
   "source": [
    "train_x.head()"
   ]
  },
  {
   "cell_type": "code",
   "execution_count": 56,
   "id": "c910f001",
   "metadata": {
    "scrolled": true
   },
   "outputs": [
    {
     "data": {
      "text/html": [
       "<div>\n",
       "<style scoped>\n",
       "    .dataframe tbody tr th:only-of-type {\n",
       "        vertical-align: middle;\n",
       "    }\n",
       "\n",
       "    .dataframe tbody tr th {\n",
       "        vertical-align: top;\n",
       "    }\n",
       "\n",
       "    .dataframe thead th {\n",
       "        text-align: right;\n",
       "    }\n",
       "</style>\n",
       "<table border=\"1\" class=\"dataframe\">\n",
       "  <thead>\n",
       "    <tr style=\"text-align: right;\">\n",
       "      <th></th>\n",
       "      <th>father</th>\n",
       "      <th>mother</th>\n",
       "      <th>gender</th>\n",
       "      <th>trait</th>\n",
       "      <th>SNP_01</th>\n",
       "      <th>SNP_02</th>\n",
       "      <th>SNP_03</th>\n",
       "      <th>SNP_04</th>\n",
       "      <th>SNP_05</th>\n",
       "      <th>SNP_06</th>\n",
       "      <th>SNP_07</th>\n",
       "      <th>SNP_08</th>\n",
       "      <th>SNP_09</th>\n",
       "      <th>SNP_10</th>\n",
       "      <th>SNP_11</th>\n",
       "      <th>SNP_12</th>\n",
       "      <th>SNP_13</th>\n",
       "      <th>SNP_14</th>\n",
       "      <th>SNP_15</th>\n",
       "    </tr>\n",
       "  </thead>\n",
       "  <tbody>\n",
       "    <tr>\n",
       "      <th>0</th>\n",
       "      <td>0</td>\n",
       "      <td>0</td>\n",
       "      <td>0</td>\n",
       "      <td>1</td>\n",
       "      <td>1</td>\n",
       "      <td>5</td>\n",
       "      <td>0</td>\n",
       "      <td>4</td>\n",
       "      <td>0</td>\n",
       "      <td>1</td>\n",
       "      <td>5</td>\n",
       "      <td>4</td>\n",
       "      <td>4</td>\n",
       "      <td>1</td>\n",
       "      <td>1</td>\n",
       "      <td>4</td>\n",
       "      <td>5</td>\n",
       "      <td>2</td>\n",
       "      <td>4</td>\n",
       "    </tr>\n",
       "    <tr>\n",
       "      <th>1</th>\n",
       "      <td>0</td>\n",
       "      <td>0</td>\n",
       "      <td>0</td>\n",
       "      <td>2</td>\n",
       "      <td>5</td>\n",
       "      <td>1</td>\n",
       "      <td>3</td>\n",
       "      <td>5</td>\n",
       "      <td>3</td>\n",
       "      <td>0</td>\n",
       "      <td>0</td>\n",
       "      <td>0</td>\n",
       "      <td>0</td>\n",
       "      <td>5</td>\n",
       "      <td>1</td>\n",
       "      <td>0</td>\n",
       "      <td>0</td>\n",
       "      <td>0</td>\n",
       "      <td>0</td>\n",
       "    </tr>\n",
       "    <tr>\n",
       "      <th>2</th>\n",
       "      <td>0</td>\n",
       "      <td>0</td>\n",
       "      <td>0</td>\n",
       "      <td>2</td>\n",
       "      <td>5</td>\n",
       "      <td>1</td>\n",
       "      <td>0</td>\n",
       "      <td>0</td>\n",
       "      <td>2</td>\n",
       "      <td>1</td>\n",
       "      <td>0</td>\n",
       "      <td>0</td>\n",
       "      <td>0</td>\n",
       "      <td>1</td>\n",
       "      <td>0</td>\n",
       "      <td>4</td>\n",
       "      <td>5</td>\n",
       "      <td>0</td>\n",
       "      <td>5</td>\n",
       "    </tr>\n",
       "    <tr>\n",
       "      <th>3</th>\n",
       "      <td>0</td>\n",
       "      <td>0</td>\n",
       "      <td>0</td>\n",
       "      <td>2</td>\n",
       "      <td>5</td>\n",
       "      <td>1</td>\n",
       "      <td>2</td>\n",
       "      <td>0</td>\n",
       "      <td>3</td>\n",
       "      <td>0</td>\n",
       "      <td>0</td>\n",
       "      <td>0</td>\n",
       "      <td>0</td>\n",
       "      <td>5</td>\n",
       "      <td>0</td>\n",
       "      <td>4</td>\n",
       "      <td>1</td>\n",
       "      <td>0</td>\n",
       "      <td>0</td>\n",
       "    </tr>\n",
       "    <tr>\n",
       "      <th>4</th>\n",
       "      <td>0</td>\n",
       "      <td>0</td>\n",
       "      <td>0</td>\n",
       "      <td>1</td>\n",
       "      <td>0</td>\n",
       "      <td>5</td>\n",
       "      <td>0</td>\n",
       "      <td>5</td>\n",
       "      <td>0</td>\n",
       "      <td>5</td>\n",
       "      <td>5</td>\n",
       "      <td>0</td>\n",
       "      <td>5</td>\n",
       "      <td>1</td>\n",
       "      <td>5</td>\n",
       "      <td>4</td>\n",
       "      <td>5</td>\n",
       "      <td>0</td>\n",
       "      <td>5</td>\n",
       "    </tr>\n",
       "  </tbody>\n",
       "</table>\n",
       "</div>"
      ],
      "text/plain": [
       "   father  mother  gender  trait  SNP_01  SNP_02  SNP_03  SNP_04  SNP_05  \\\n",
       "0       0       0       0      1       1       5       0       4       0   \n",
       "1       0       0       0      2       5       1       3       5       3   \n",
       "2       0       0       0      2       5       1       0       0       2   \n",
       "3       0       0       0      2       5       1       2       0       3   \n",
       "4       0       0       0      1       0       5       0       5       0   \n",
       "\n",
       "   SNP_06  SNP_07  SNP_08  SNP_09  SNP_10  SNP_11  SNP_12  SNP_13  SNP_14  \\\n",
       "0       1       5       4       4       1       1       4       5       2   \n",
       "1       0       0       0       0       5       1       0       0       0   \n",
       "2       1       0       0       0       1       0       4       5       0   \n",
       "3       0       0       0       0       5       0       4       1       0   \n",
       "4       5       5       0       5       1       5       4       5       0   \n",
       "\n",
       "   SNP_15  \n",
       "0       4  \n",
       "1       0  \n",
       "2       5  \n",
       "3       0  \n",
       "4       5  "
      ]
     },
     "execution_count": 56,
     "metadata": {},
     "output_type": "execute_result"
    }
   ],
   "source": [
    "test_x.head()"
   ]
  },
  {
   "cell_type": "markdown",
   "id": "5fb12f6d",
   "metadata": {},
   "source": [
    "## 변수 선택"
   ]
  },
  {
   "cell_type": "code",
   "execution_count": 66,
   "id": "26f244c7",
   "metadata": {},
   "outputs": [],
   "source": [
    "drop_col = ['father', 'mother', 'gender']\n",
    "train_x = train_x.drop(drop_col, axis = 1)\n",
    "test_x = test_x.drop(drop_col, axis = 1)"
   ]
  },
  {
   "cell_type": "code",
   "execution_count": 75,
   "id": "1c37c6c0",
   "metadata": {
    "scrolled": false
   },
   "outputs": [
    {
     "data": {
      "text/html": [
       "<div>\n",
       "<style scoped>\n",
       "    .dataframe tbody tr th:only-of-type {\n",
       "        vertical-align: middle;\n",
       "    }\n",
       "\n",
       "    .dataframe tbody tr th {\n",
       "        vertical-align: top;\n",
       "    }\n",
       "\n",
       "    .dataframe thead th {\n",
       "        text-align: right;\n",
       "    }\n",
       "</style>\n",
       "<table border=\"1\" class=\"dataframe\">\n",
       "  <thead>\n",
       "    <tr style=\"text-align: right;\">\n",
       "      <th></th>\n",
       "      <th>trait</th>\n",
       "      <th>SNP_01</th>\n",
       "      <th>SNP_02</th>\n",
       "      <th>SNP_03</th>\n",
       "      <th>SNP_04</th>\n",
       "      <th>SNP_05</th>\n",
       "      <th>SNP_06</th>\n",
       "      <th>SNP_07</th>\n",
       "      <th>SNP_08</th>\n",
       "      <th>SNP_09</th>\n",
       "      <th>SNP_10</th>\n",
       "      <th>SNP_11</th>\n",
       "      <th>SNP_12</th>\n",
       "      <th>SNP_13</th>\n",
       "      <th>SNP_14</th>\n",
       "      <th>SNP_15</th>\n",
       "    </tr>\n",
       "  </thead>\n",
       "  <tbody>\n",
       "    <tr>\n",
       "      <th>trait</th>\n",
       "      <td>True</td>\n",
       "      <td>False</td>\n",
       "      <td>False</td>\n",
       "      <td>False</td>\n",
       "      <td>False</td>\n",
       "      <td>False</td>\n",
       "      <td>False</td>\n",
       "      <td>False</td>\n",
       "      <td>False</td>\n",
       "      <td>False</td>\n",
       "      <td>False</td>\n",
       "      <td>False</td>\n",
       "      <td>False</td>\n",
       "      <td>False</td>\n",
       "      <td>False</td>\n",
       "      <td>False</td>\n",
       "    </tr>\n",
       "    <tr>\n",
       "      <th>SNP_01</th>\n",
       "      <td>False</td>\n",
       "      <td>True</td>\n",
       "      <td>False</td>\n",
       "      <td>False</td>\n",
       "      <td>False</td>\n",
       "      <td>False</td>\n",
       "      <td>False</td>\n",
       "      <td>False</td>\n",
       "      <td>False</td>\n",
       "      <td>False</td>\n",
       "      <td>False</td>\n",
       "      <td>False</td>\n",
       "      <td>False</td>\n",
       "      <td>False</td>\n",
       "      <td>False</td>\n",
       "      <td>False</td>\n",
       "    </tr>\n",
       "    <tr>\n",
       "      <th>SNP_02</th>\n",
       "      <td>False</td>\n",
       "      <td>False</td>\n",
       "      <td>True</td>\n",
       "      <td>False</td>\n",
       "      <td>False</td>\n",
       "      <td>False</td>\n",
       "      <td>False</td>\n",
       "      <td>False</td>\n",
       "      <td>False</td>\n",
       "      <td>False</td>\n",
       "      <td>False</td>\n",
       "      <td>False</td>\n",
       "      <td>False</td>\n",
       "      <td>False</td>\n",
       "      <td>False</td>\n",
       "      <td>False</td>\n",
       "    </tr>\n",
       "    <tr>\n",
       "      <th>SNP_03</th>\n",
       "      <td>False</td>\n",
       "      <td>False</td>\n",
       "      <td>False</td>\n",
       "      <td>True</td>\n",
       "      <td>False</td>\n",
       "      <td>False</td>\n",
       "      <td>False</td>\n",
       "      <td>False</td>\n",
       "      <td>False</td>\n",
       "      <td>False</td>\n",
       "      <td>False</td>\n",
       "      <td>False</td>\n",
       "      <td>False</td>\n",
       "      <td>False</td>\n",
       "      <td>False</td>\n",
       "      <td>False</td>\n",
       "    </tr>\n",
       "    <tr>\n",
       "      <th>SNP_04</th>\n",
       "      <td>False</td>\n",
       "      <td>False</td>\n",
       "      <td>False</td>\n",
       "      <td>False</td>\n",
       "      <td>True</td>\n",
       "      <td>False</td>\n",
       "      <td>False</td>\n",
       "      <td>False</td>\n",
       "      <td>False</td>\n",
       "      <td>False</td>\n",
       "      <td>False</td>\n",
       "      <td>False</td>\n",
       "      <td>False</td>\n",
       "      <td>False</td>\n",
       "      <td>False</td>\n",
       "      <td>False</td>\n",
       "    </tr>\n",
       "    <tr>\n",
       "      <th>SNP_05</th>\n",
       "      <td>False</td>\n",
       "      <td>False</td>\n",
       "      <td>False</td>\n",
       "      <td>False</td>\n",
       "      <td>False</td>\n",
       "      <td>True</td>\n",
       "      <td>False</td>\n",
       "      <td>False</td>\n",
       "      <td>False</td>\n",
       "      <td>False</td>\n",
       "      <td>False</td>\n",
       "      <td>False</td>\n",
       "      <td>False</td>\n",
       "      <td>False</td>\n",
       "      <td>False</td>\n",
       "      <td>False</td>\n",
       "    </tr>\n",
       "    <tr>\n",
       "      <th>SNP_06</th>\n",
       "      <td>False</td>\n",
       "      <td>False</td>\n",
       "      <td>False</td>\n",
       "      <td>False</td>\n",
       "      <td>False</td>\n",
       "      <td>False</td>\n",
       "      <td>True</td>\n",
       "      <td>False</td>\n",
       "      <td>False</td>\n",
       "      <td>False</td>\n",
       "      <td>False</td>\n",
       "      <td>False</td>\n",
       "      <td>False</td>\n",
       "      <td>False</td>\n",
       "      <td>False</td>\n",
       "      <td>False</td>\n",
       "    </tr>\n",
       "    <tr>\n",
       "      <th>SNP_07</th>\n",
       "      <td>False</td>\n",
       "      <td>False</td>\n",
       "      <td>False</td>\n",
       "      <td>False</td>\n",
       "      <td>False</td>\n",
       "      <td>False</td>\n",
       "      <td>False</td>\n",
       "      <td>True</td>\n",
       "      <td>False</td>\n",
       "      <td>False</td>\n",
       "      <td>False</td>\n",
       "      <td>False</td>\n",
       "      <td>False</td>\n",
       "      <td>False</td>\n",
       "      <td>False</td>\n",
       "      <td>False</td>\n",
       "    </tr>\n",
       "    <tr>\n",
       "      <th>SNP_08</th>\n",
       "      <td>False</td>\n",
       "      <td>False</td>\n",
       "      <td>False</td>\n",
       "      <td>False</td>\n",
       "      <td>False</td>\n",
       "      <td>False</td>\n",
       "      <td>False</td>\n",
       "      <td>False</td>\n",
       "      <td>True</td>\n",
       "      <td>False</td>\n",
       "      <td>False</td>\n",
       "      <td>False</td>\n",
       "      <td>False</td>\n",
       "      <td>False</td>\n",
       "      <td>False</td>\n",
       "      <td>False</td>\n",
       "    </tr>\n",
       "    <tr>\n",
       "      <th>SNP_09</th>\n",
       "      <td>False</td>\n",
       "      <td>False</td>\n",
       "      <td>False</td>\n",
       "      <td>False</td>\n",
       "      <td>False</td>\n",
       "      <td>False</td>\n",
       "      <td>False</td>\n",
       "      <td>False</td>\n",
       "      <td>False</td>\n",
       "      <td>True</td>\n",
       "      <td>False</td>\n",
       "      <td>False</td>\n",
       "      <td>False</td>\n",
       "      <td>False</td>\n",
       "      <td>False</td>\n",
       "      <td>False</td>\n",
       "    </tr>\n",
       "    <tr>\n",
       "      <th>SNP_10</th>\n",
       "      <td>False</td>\n",
       "      <td>False</td>\n",
       "      <td>False</td>\n",
       "      <td>False</td>\n",
       "      <td>False</td>\n",
       "      <td>False</td>\n",
       "      <td>False</td>\n",
       "      <td>False</td>\n",
       "      <td>False</td>\n",
       "      <td>False</td>\n",
       "      <td>True</td>\n",
       "      <td>False</td>\n",
       "      <td>False</td>\n",
       "      <td>False</td>\n",
       "      <td>False</td>\n",
       "      <td>False</td>\n",
       "    </tr>\n",
       "    <tr>\n",
       "      <th>SNP_11</th>\n",
       "      <td>False</td>\n",
       "      <td>False</td>\n",
       "      <td>False</td>\n",
       "      <td>False</td>\n",
       "      <td>False</td>\n",
       "      <td>False</td>\n",
       "      <td>False</td>\n",
       "      <td>False</td>\n",
       "      <td>False</td>\n",
       "      <td>False</td>\n",
       "      <td>False</td>\n",
       "      <td>True</td>\n",
       "      <td>False</td>\n",
       "      <td>False</td>\n",
       "      <td>False</td>\n",
       "      <td>False</td>\n",
       "    </tr>\n",
       "    <tr>\n",
       "      <th>SNP_12</th>\n",
       "      <td>False</td>\n",
       "      <td>False</td>\n",
       "      <td>False</td>\n",
       "      <td>False</td>\n",
       "      <td>False</td>\n",
       "      <td>False</td>\n",
       "      <td>False</td>\n",
       "      <td>False</td>\n",
       "      <td>False</td>\n",
       "      <td>False</td>\n",
       "      <td>False</td>\n",
       "      <td>False</td>\n",
       "      <td>True</td>\n",
       "      <td>False</td>\n",
       "      <td>False</td>\n",
       "      <td>False</td>\n",
       "    </tr>\n",
       "    <tr>\n",
       "      <th>SNP_13</th>\n",
       "      <td>False</td>\n",
       "      <td>False</td>\n",
       "      <td>False</td>\n",
       "      <td>False</td>\n",
       "      <td>False</td>\n",
       "      <td>False</td>\n",
       "      <td>False</td>\n",
       "      <td>False</td>\n",
       "      <td>False</td>\n",
       "      <td>False</td>\n",
       "      <td>False</td>\n",
       "      <td>False</td>\n",
       "      <td>False</td>\n",
       "      <td>True</td>\n",
       "      <td>False</td>\n",
       "      <td>False</td>\n",
       "    </tr>\n",
       "    <tr>\n",
       "      <th>SNP_14</th>\n",
       "      <td>False</td>\n",
       "      <td>False</td>\n",
       "      <td>False</td>\n",
       "      <td>False</td>\n",
       "      <td>False</td>\n",
       "      <td>False</td>\n",
       "      <td>False</td>\n",
       "      <td>False</td>\n",
       "      <td>False</td>\n",
       "      <td>False</td>\n",
       "      <td>False</td>\n",
       "      <td>False</td>\n",
       "      <td>False</td>\n",
       "      <td>False</td>\n",
       "      <td>True</td>\n",
       "      <td>False</td>\n",
       "    </tr>\n",
       "    <tr>\n",
       "      <th>SNP_15</th>\n",
       "      <td>False</td>\n",
       "      <td>False</td>\n",
       "      <td>False</td>\n",
       "      <td>False</td>\n",
       "      <td>False</td>\n",
       "      <td>False</td>\n",
       "      <td>False</td>\n",
       "      <td>False</td>\n",
       "      <td>False</td>\n",
       "      <td>False</td>\n",
       "      <td>False</td>\n",
       "      <td>False</td>\n",
       "      <td>False</td>\n",
       "      <td>False</td>\n",
       "      <td>False</td>\n",
       "      <td>True</td>\n",
       "    </tr>\n",
       "  </tbody>\n",
       "</table>\n",
       "</div>"
      ],
      "text/plain": [
       "        trait  SNP_01  SNP_02  SNP_03  SNP_04  SNP_05  SNP_06  SNP_07  SNP_08  \\\n",
       "trait    True   False   False   False   False   False   False   False   False   \n",
       "SNP_01  False    True   False   False   False   False   False   False   False   \n",
       "SNP_02  False   False    True   False   False   False   False   False   False   \n",
       "SNP_03  False   False   False    True   False   False   False   False   False   \n",
       "SNP_04  False   False   False   False    True   False   False   False   False   \n",
       "SNP_05  False   False   False   False   False    True   False   False   False   \n",
       "SNP_06  False   False   False   False   False   False    True   False   False   \n",
       "SNP_07  False   False   False   False   False   False   False    True   False   \n",
       "SNP_08  False   False   False   False   False   False   False   False    True   \n",
       "SNP_09  False   False   False   False   False   False   False   False   False   \n",
       "SNP_10  False   False   False   False   False   False   False   False   False   \n",
       "SNP_11  False   False   False   False   False   False   False   False   False   \n",
       "SNP_12  False   False   False   False   False   False   False   False   False   \n",
       "SNP_13  False   False   False   False   False   False   False   False   False   \n",
       "SNP_14  False   False   False   False   False   False   False   False   False   \n",
       "SNP_15  False   False   False   False   False   False   False   False   False   \n",
       "\n",
       "        SNP_09  SNP_10  SNP_11  SNP_12  SNP_13  SNP_14  SNP_15  \n",
       "trait    False   False   False   False   False   False   False  \n",
       "SNP_01   False   False   False   False   False   False   False  \n",
       "SNP_02   False   False   False   False   False   False   False  \n",
       "SNP_03   False   False   False   False   False   False   False  \n",
       "SNP_04   False   False   False   False   False   False   False  \n",
       "SNP_05   False   False   False   False   False   False   False  \n",
       "SNP_06   False   False   False   False   False   False   False  \n",
       "SNP_07   False   False   False   False   False   False   False  \n",
       "SNP_08   False   False   False   False   False   False   False  \n",
       "SNP_09    True   False   False   False   False   False   False  \n",
       "SNP_10   False    True   False   False   False   False   False  \n",
       "SNP_11   False   False    True   False   False   False   False  \n",
       "SNP_12   False   False   False    True   False   False   False  \n",
       "SNP_13   False   False   False   False    True   False   False  \n",
       "SNP_14   False   False   False   False   False    True   False  \n",
       "SNP_15   False   False   False   False   False   False    True  "
      ]
     },
     "execution_count": 75,
     "metadata": {},
     "output_type": "execute_result"
    }
   ],
   "source": [
    "train_x.corr() >= 0.7"
   ]
  },
  {
   "cell_type": "markdown",
   "id": "ecb97994",
   "metadata": {},
   "source": [
    "- 다중공선성 존재 X -> 모든 변수 사용"
   ]
  },
  {
   "cell_type": "markdown",
   "id": "3ade2c70",
   "metadata": {},
   "source": [
    "## train set과 validation set split"
   ]
  },
  {
   "cell_type": "code",
   "execution_count": 81,
   "id": "b5f04ef3",
   "metadata": {},
   "outputs": [
    {
     "data": {
      "text/plain": [
       "((262, 16), (262,))"
      ]
     },
     "execution_count": 81,
     "metadata": {},
     "output_type": "execute_result"
    }
   ],
   "source": [
    "train_x.shape, train_y.shape"
   ]
  },
  {
   "cell_type": "code",
   "execution_count": 112,
   "id": "1798859b",
   "metadata": {},
   "outputs": [
    {
     "data": {
      "text/plain": [
       "array([[2, 5, 1, ..., 0, 0, 0],\n",
       "       [2, 1, 1, ..., 5, 0, 0],\n",
       "       [2, 5, 5, ..., 0, 0, 0],\n",
       "       ...,\n",
       "       [1, 1, 5, ..., 5, 2, 5],\n",
       "       [1, 0, 5, ..., 5, 2, 5],\n",
       "       [2, 5, 1, ..., 5, 0, 4]], dtype=int64)"
      ]
     },
     "execution_count": 112,
     "metadata": {},
     "output_type": "execute_result"
    }
   ],
   "source": [
    "train_x.to_numpy()"
   ]
  },
  {
   "cell_type": "code",
   "execution_count": 115,
   "id": "9dbe5cfe",
   "metadata": {
    "scrolled": true
   },
   "outputs": [],
   "source": [
    "xtrain, xval, ytrain, yval = train_test_split(train_x, train['class'], test_size = 0.2 , stratify = train['class'])"
   ]
  },
  {
   "cell_type": "code",
   "execution_count": 118,
   "id": "dc1ccfa3",
   "metadata": {},
   "outputs": [
    {
     "data": {
      "text/plain": [
       "((209, 16), (53, 16), (209,), (53,))"
      ]
     },
     "execution_count": 118,
     "metadata": {},
     "output_type": "execute_result"
    }
   ],
   "source": [
    "xtrain.shape, xval.shape, ytrain.shape, yval.shape"
   ]
  },
  {
   "cell_type": "markdown",
   "id": "17537b3f",
   "metadata": {},
   "source": [
    "## 단일 모델"
   ]
  },
  {
   "cell_type": "markdown",
   "id": "9bd30186",
   "metadata": {},
   "source": [
    "### 1. Decision Tree"
   ]
  },
  {
   "cell_type": "code",
   "execution_count": 124,
   "id": "038c90a2",
   "metadata": {},
   "outputs": [],
   "source": [
    "from sklearn.tree import DecisionTreeClassifier"
   ]
  },
  {
   "cell_type": "code",
   "execution_count": 136,
   "id": "def09ce7",
   "metadata": {},
   "outputs": [
    {
     "data": {
      "text/plain": [
       "DecisionTreeClassifier(random_state=42)"
      ]
     },
     "execution_count": 136,
     "metadata": {},
     "output_type": "execute_result"
    }
   ],
   "source": [
    "dt = DecisionTreeClassifier(random_state=CFG.SEED)\n",
    "dt.fit(xtrain, ytrain)"
   ]
  },
  {
   "cell_type": "code",
   "execution_count": 137,
   "id": "82b25316",
   "metadata": {},
   "outputs": [],
   "source": [
    "dt_preds = dt.predict(xval)"
   ]
  },
  {
   "cell_type": "code",
   "execution_count": 138,
   "id": "bdb78dc3",
   "metadata": {},
   "outputs": [
    {
     "data": {
      "text/plain": [
       "0.8885714285714287"
      ]
     },
     "execution_count": 138,
     "metadata": {},
     "output_type": "execute_result"
    }
   ],
   "source": [
    "f1_score(yval, dt_preds, average = 'macro')"
   ]
  },
  {
   "cell_type": "markdown",
   "id": "3ae2049a",
   "metadata": {},
   "source": [
    "### 2.  SVC"
   ]
  },
  {
   "cell_type": "code",
   "execution_count": 133,
   "id": "2aac9d21",
   "metadata": {},
   "outputs": [],
   "source": [
    "from sklearn.svm import SVC"
   ]
  },
  {
   "cell_type": "code",
   "execution_count": 145,
   "id": "c27c6b47",
   "metadata": {},
   "outputs": [
    {
     "name": "stdout",
     "output_type": "stream",
     "text": [
      "svc ( rbf ) :  0.9451090781140042\n",
      "svc ( poly ) :  0.9474747474747475\n",
      "svc ( sigmoid ) :  0.7503383060242929\n"
     ]
    }
   ],
   "source": [
    "kernel_list = ['rbf', 'poly', 'sigmoid']\n",
    " \n",
    "for kernel in kernel_list:\n",
    "    svc = SVC(kernel=kernel, random_state = CFG.SEED)\n",
    "    svc.fit(xtrain, ytrain) \n",
    "    svc_preds = svc.predict(xval)\n",
    "    print(\"svc (\", kernel, \") : \", f1_score(yval, svc_preds, average = 'macro'))"
   ]
  },
  {
   "cell_type": "markdown",
   "id": "2f2ffcea",
   "metadata": {},
   "source": [
    "- svc 중에서는 'poly' 커널을 사용했을 때 성능이 가장 좋음"
   ]
  },
  {
   "cell_type": "markdown",
   "id": "7f9dc609",
   "metadata": {},
   "source": [
    "### 3. KNN"
   ]
  },
  {
   "cell_type": "code",
   "execution_count": 162,
   "id": "2665c6eb",
   "metadata": {},
   "outputs": [],
   "source": [
    "from sklearn.neighbors import KNeighborsClassifier\n",
    "from sklearn.metrics import accuracy_score\n",
    "import matplotlib.pyplot as plt"
   ]
  },
  {
   "cell_type": "code",
   "execution_count": 163,
   "id": "591d7753",
   "metadata": {},
   "outputs": [
    {
     "name": "stdout",
     "output_type": "stream",
     "text": [
      "n = 1 :  0.8679245283018868\n",
      "n = 2 :  0.8867924528301887\n",
      "n = 3 :  0.8679245283018868\n",
      "n = 4 :  0.8679245283018868\n",
      "n = 5 :  0.8867924528301887\n",
      "n = 6 :  0.9056603773584906\n",
      "n = 7 :  0.8867924528301887\n",
      "n = 8 :  0.8867924528301887\n",
      "n = 9 :  0.8867924528301887\n",
      "n = 10 :  0.9056603773584906\n"
     ]
    }
   ],
   "source": [
    "knn_acc = np.zeros(10)\n",
    "for n in range(1, 11):\n",
    "    knn = KNeighborsClassifier(n_neighbors = n)\n",
    "    knn.fit(xtrain, ytrain)\n",
    "    knn_preds = knn.predict(xval)\n",
    "    knn_acc[n - 1] = accuracy_score(yval, knn_preds)\n",
    "    print(\"n =\", n, \": \", knn_acc[n - 1])"
   ]
  },
  {
   "cell_type": "code",
   "execution_count": 164,
   "id": "8c15e2b8",
   "metadata": {},
   "outputs": [
    {
     "data": {
      "image/png": "[encoded data removed]",
      "text/plain": [
       "<Figure size 432x288 with 1 Axes>"
      ]
     },
     "metadata": {
      "needs_background": "light"
     },
     "output_type": "display_data"
    }
   ],
   "source": [
    "plt.plot(range(1, 11), knn_acc)\n",
    "plt.xlabel('k')\n",
    "plt.ylabel('accuracy')\n",
    "plt.show()"
   ]
  },
  {
   "cell_type": "markdown",
   "id": "0ec65868",
   "metadata": {},
   "source": [
    "- k = 6으로 설정"
   ]
  },
  {
   "cell_type": "code",
   "execution_count": 173,
   "id": "827aa678",
   "metadata": {},
   "outputs": [
    {
     "data": {
      "text/plain": [
       "KNeighborsClassifier(n_neighbors=6)"
      ]
     },
     "execution_count": 173,
     "metadata": {},
     "output_type": "execute_result"
    }
   ],
   "source": [
    "knn = KNeighborsClassifier(n_neighbors = 6)\n",
    "knn.fit(xtrain, ytrain)"
   ]
  },
  {
   "cell_type": "code",
   "execution_count": 174,
   "id": "dac51661",
   "metadata": {},
   "outputs": [],
   "source": [
    "knn_preds = knn.predict(xval)"
   ]
  },
  {
   "cell_type": "code",
   "execution_count": 175,
   "id": "5087f010",
   "metadata": {},
   "outputs": [
    {
     "data": {
      "text/plain": [
       "0.90559186637618"
      ]
     },
     "execution_count": 175,
     "metadata": {},
     "output_type": "execute_result"
    }
   ],
   "source": [
    "f1_score(yval, knn_preds, average = 'macro')"
   ]
  },
  {
   "cell_type": "markdown",
   "id": "5ba4d960-9c02-4cf2-8af0-0d678dfd2882",
   "metadata": {},
   "source": [
    "## Random Forest"
   ]
  },
  {
   "cell_type": "code",
   "execution_count": 125,
   "id": "b1662762-2a55-4e24-a333-8a8fbc2516e3",
   "metadata": {},
   "outputs": [
    {
     "data": {
      "text/plain": [
       "RandomForestClassifier(random_state=42)"
      ]
     },
     "execution_count": 125,
     "metadata": {},
     "output_type": "execute_result"
    }
   ],
   "source": [
    "rf = RandomForestClassifier(random_state=CFG.SEED)\n",
    "rf.fit(xtrain, ytrain)"
   ]
  },
  {
   "cell_type": "code",
   "execution_count": 126,
   "id": "971e792e-abe0-4e31-a08c-91447057b15a",
   "metadata": {},
   "outputs": [],
   "source": [
    "rf_preds = rf.predict(xval)"
   ]
  },
  {
   "cell_type": "code",
   "execution_count": 127,
   "id": "a48622ab",
   "metadata": {},
   "outputs": [
    {
     "data": {
      "text/plain": [
       "0.9451090781140042"
      ]
     },
     "execution_count": 127,
     "metadata": {},
     "output_type": "execute_result"
    }
   ],
   "source": [
    "f1_score(yval, rf_preds, average = 'macro')"
   ]
  },
  {
   "cell_type": "markdown",
   "id": "2899e1f5",
   "metadata": {},
   "source": [
    "## AdaBoost Classifier"
   ]
  },
  {
   "cell_type": "markdown",
   "id": "e43d41e8",
   "metadata": {},
   "source": [
    "### base estimator : decision tree"
   ]
  },
  {
   "cell_type": "code",
   "execution_count": 180,
   "id": "43d089d0",
   "metadata": {},
   "outputs": [],
   "source": [
    "from sklearn.ensemble import AdaBoostClassifier"
   ]
  },
  {
   "cell_type": "code",
   "execution_count": 234,
   "id": "b75c2870",
   "metadata": {},
   "outputs": [
    {
     "data": {
      "text/plain": [
       "AdaBoostClassifier(base_estimator=DecisionTreeClassifier(random_state=42),\n",
       "                   random_state=42)"
      ]
     },
     "execution_count": 234,
     "metadata": {},
     "output_type": "execute_result"
    }
   ],
   "source": [
    "ada = AdaBoostClassifier(base_estimator = dt, random_state=CFG.SEED)\n",
    "ada.fit(xtrain, ytrain)"
   ]
  },
  {
   "cell_type": "code",
   "execution_count": 235,
   "id": "918ea5e4",
   "metadata": {},
   "outputs": [],
   "source": [
    "ada_preds = ada.predict(xval)"
   ]
  },
  {
   "cell_type": "code",
   "execution_count": 236,
   "id": "c214a916",
   "metadata": {},
   "outputs": [
    {
     "data": {
      "text/plain": [
       "0.8719211822660098"
      ]
     },
     "execution_count": 236,
     "metadata": {},
     "output_type": "execute_result"
    }
   ],
   "source": [
    "f1_score(yval, ada_preds, average = 'macro')"
   ]
  },
  {
   "cell_type": "markdown",
   "id": "beb60316",
   "metadata": {},
   "source": [
    "## Gradient Boosting Classifier"
   ]
  },
  {
   "cell_type": "code",
   "execution_count": 191,
   "id": "0a478152",
   "metadata": {},
   "outputs": [],
   "source": [
    "from sklearn.ensemble import GradientBoostingClassifier"
   ]
  },
  {
   "cell_type": "code",
   "execution_count": 193,
   "id": "02af6587",
   "metadata": {},
   "outputs": [
    {
     "data": {
      "text/plain": [
       "GradientBoostingClassifier(random_state=42)"
      ]
     },
     "execution_count": 193,
     "metadata": {},
     "output_type": "execute_result"
    }
   ],
   "source": [
    "gbc = GradientBoostingClassifier(random_state=CFG.SEED)\n",
    "gbc.fit(xtrain, ytrain)"
   ]
  },
  {
   "cell_type": "code",
   "execution_count": 194,
   "id": "4099201a",
   "metadata": {},
   "outputs": [],
   "source": [
    "gbc_preds = gbc.predict(xval)"
   ]
  },
  {
   "cell_type": "code",
   "execution_count": 195,
   "id": "9389c873",
   "metadata": {},
   "outputs": [
    {
     "data": {
      "text/plain": [
       "0.9638888888888889"
      ]
     },
     "execution_count": 195,
     "metadata": {},
     "output_type": "execute_result"
    }
   ],
   "source": [
    "f1_score(yval, gbc_preds, average = 'macro')"
   ]
  },
  {
   "cell_type": "markdown",
   "id": "48d3d457",
   "metadata": {},
   "source": [
    "## XGBoost Classifier"
   ]
  },
  {
   "cell_type": "code",
   "execution_count": 197,
   "id": "bfcd888d",
   "metadata": {},
   "outputs": [],
   "source": [
    "from xgboost import XGBClassifier"
   ]
  },
  {
   "cell_type": "code",
   "execution_count": 210,
   "id": "23cb3185",
   "metadata": {},
   "outputs": [],
   "source": [
    "from sklearn.preprocessing import LabelEncoder\n",
    "le = LabelEncoder()\n",
    "ytrain_le = le.fit_transform(ytrain)\n",
    "yval_le = le.fit_transform(yval)"
   ]
  },
  {
   "cell_type": "code",
   "execution_count": 211,
   "id": "c6eef764",
   "metadata": {},
   "outputs": [
    {
     "data": {
      "text/plain": [
       "XGBClassifier(base_score=0.5, booster='gbtree', callbacks=None,\n",
       "              colsample_bylevel=1, colsample_bynode=1, colsample_bytree=1,\n",
       "              early_stopping_rounds=None, enable_categorical=False,\n",
       "              eval_metric=None, feature_types=None, gamma=0, gpu_id=-1,\n",
       "              grow_policy='depthwise', importance_type=None,\n",
       "              interaction_constraints='', learning_rate=0.300000012,\n",
       "              max_bin=256, max_cat_threshold=64, max_cat_to_onehot=4,\n",
       "              max_delta_step=0, max_depth=6, max_leaves=0, min_child_weight=1,\n",
       "              missing=nan, monotone_constraints='()', n_estimators=100,\n",
       "              n_jobs=0, num_parallel_tree=1, objective='multi:softprob',\n",
       "              predictor='auto', ...)"
      ]
     },
     "execution_count": 211,
     "metadata": {},
     "output_type": "execute_result"
    }
   ],
   "source": [
    "xgb = XGBClassifier(random_state=CFG.SEED)\n",
    "xgb.fit(xtrain, ytrain_le)"
   ]
  },
  {
   "cell_type": "code",
   "execution_count": 212,
   "id": "df23f39e",
   "metadata": {},
   "outputs": [],
   "source": [
    "xgb_preds = xgb.predict(xval)"
   ]
  },
  {
   "cell_type": "code",
   "execution_count": 214,
   "id": "103534d8",
   "metadata": {},
   "outputs": [
    {
     "data": {
      "text/plain": [
       "0.9085151301900071"
      ]
     },
     "execution_count": 214,
     "metadata": {},
     "output_type": "execute_result"
    }
   ],
   "source": [
    "f1_score(yval_le, xgb_preds, average = 'macro')"
   ]
  },
  {
   "cell_type": "markdown",
   "id": "de2c21c9",
   "metadata": {},
   "source": [
    "## Light GBM"
   ]
  },
  {
   "cell_type": "code",
   "execution_count": 216,
   "id": "3e1fcbe4",
   "metadata": {},
   "outputs": [],
   "source": [
    "from lightgbm import LGBMClassifier"
   ]
  },
  {
   "cell_type": "code",
   "execution_count": 218,
   "id": "f3ac29fd",
   "metadata": {},
   "outputs": [
    {
     "data": {
      "text/plain": [
       "LGBMClassifier(random_state=42)"
      ]
     },
     "execution_count": 218,
     "metadata": {},
     "output_type": "execute_result"
    }
   ],
   "source": [
    "lgbm = LGBMClassifier(random_state=CFG.SEED)\n",
    "lgbm.fit(xtrain, ytrain)"
   ]
  },
  {
   "cell_type": "code",
   "execution_count": 219,
   "id": "8f85002d",
   "metadata": {},
   "outputs": [],
   "source": [
    "lgbm_preds = lgbm.predict(xval)"
   ]
  },
  {
   "cell_type": "code",
   "execution_count": 220,
   "id": "f0b5d9ac",
   "metadata": {},
   "outputs": [
    {
     "data": {
      "text/plain": [
       "0.9646739130434782"
      ]
     },
     "execution_count": 220,
     "metadata": {},
     "output_type": "execute_result"
    }
   ],
   "source": [
    "f1_score(yval, lgbm_preds, average = 'macro')"
   ]
  },
  {
   "cell_type": "markdown",
   "id": "66085188",
   "metadata": {},
   "source": [
    "## Bagging Classifier"
   ]
  },
  {
   "cell_type": "markdown",
   "id": "c6002aa7",
   "metadata": {},
   "source": [
    "### base estimator : decision tree"
   ]
  },
  {
   "cell_type": "code",
   "execution_count": 221,
   "id": "e6d05249",
   "metadata": {},
   "outputs": [],
   "source": [
    "from sklearn.ensemble import BaggingClassifier"
   ]
  },
  {
   "cell_type": "code",
   "execution_count": 226,
   "id": "1ce95e02",
   "metadata": {},
   "outputs": [
    {
     "data": {
      "text/plain": [
       "BaggingClassifier(base_estimator=DecisionTreeClassifier(random_state=42),\n",
       "                  random_state=42)"
      ]
     },
     "execution_count": 226,
     "metadata": {},
     "output_type": "execute_result"
    }
   ],
   "source": [
    "bag = BaggingClassifier(base_estimator = dt, random_state=CFG.SEED)\n",
    "bag.fit(xtrain, ytrain)"
   ]
  },
  {
   "cell_type": "code",
   "execution_count": 227,
   "id": "12e2055c",
   "metadata": {},
   "outputs": [],
   "source": [
    "bag_preds = bag.predict(xval)"
   ]
  },
  {
   "cell_type": "code",
   "execution_count": 228,
   "id": "95f338e7",
   "metadata": {},
   "outputs": [
    {
     "data": {
      "text/plain": [
       "0.8885714285714287"
      ]
     },
     "execution_count": 228,
     "metadata": {},
     "output_type": "execute_result"
    }
   ],
   "source": [
    "f1_score(yval, bag_preds, average = 'macro')"
   ]
  },
  {
   "cell_type": "markdown",
   "id": "e1f2781d",
   "metadata": {},
   "source": [
    "## Final Model : LightGBM"
   ]
  },
  {
   "cell_type": "code",
   "execution_count": 237,
   "id": "64e192c9",
   "metadata": {},
   "outputs": [
    {
     "data": {
      "text/plain": [
       "LGBMClassifier(random_state=42)"
      ]
     },
     "execution_count": 237,
     "metadata": {},
     "output_type": "execute_result"
    }
   ],
   "source": [
    "lgbm_final = LGBMClassifier(random_state=CFG.SEED)\n",
    "lgbm_final.fit(train_x, train_y)"
   ]
  },
  {
   "cell_type": "code",
   "execution_count": 238,
   "id": "19701b5f",
   "metadata": {},
   "outputs": [],
   "source": [
    "preds = lgbm_final.predict(test_x)"
   ]
  },
  {
   "cell_type": "markdown",
   "id": "bd16b405-8a2d-4567-aebf-79ad596a1cd9",
   "metadata": {},
   "source": [
    "## Submission"
   ]
  },
  {
   "cell_type": "code",
   "execution_count": 239,
   "id": "4fd0adb4-81ad-4474-8d31-51dff217f5c0",
   "metadata": {},
   "outputs": [],
   "source": [
    "submit = pd.read_csv('./sample_submission.csv')"
   ]
  },
  {
   "cell_type": "code",
   "execution_count": 251,
   "id": "ce1ce792",
   "metadata": {},
   "outputs": [
    {
     "data": {
      "text/plain": [
       "0      0\n",
       "1      1\n",
       "2      2\n",
       "3      1\n",
       "4      0\n",
       "      ..\n",
       "170    1\n",
       "171    2\n",
       "172    2\n",
       "173    1\n",
       "174    1\n",
       "Name: class, Length: 175, dtype: int32"
      ]
     },
     "execution_count": 251,
     "metadata": {},
     "output_type": "execute_result"
    }
   ],
   "source": [
    "submit['class']"
   ]
  },
  {
   "cell_type": "code",
   "execution_count": 253,
   "id": "2d5b547b",
   "metadata": {},
   "outputs": [
    {
     "name": "stderr",
     "output_type": "stream",
     "text": [
      "C:\\Users\\조\\AppData\\Local\\Temp\\ipykernel_26840\\2216335007.py:3: SettingWithCopyWarning: \n",
      "A value is trying to be set on a copy of a slice from a DataFrame\n",
      "\n",
      "See the caveats in the documentation: https://pandas.pydata.org/pandas-docs/stable/user_guide/indexing.html#returning-a-view-versus-a-copy\n",
      "  submit['class'][idx] = 'A'\n"
     ]
    }
   ],
   "source": [
    "for idx, pred in enumerate(preds):\n",
    "    if pred == 0:\n",
    "        submit['class'][idx] = 'A'\n",
    "    elif pred == 1:\n",
    "        submit['class'][idx] = 'B'\n",
    "    else:\n",
    "        submit['class'][idx] = 'C'"
   ]
  },
  {
   "cell_type": "code",
   "execution_count": 242,
   "id": "1863fd31",
   "metadata": {},
   "outputs": [
    {
     "data": {
      "text/html": [
       "<div>\n",
       "<style scoped>\n",
       "    .dataframe tbody tr th:only-of-type {\n",
       "        vertical-align: middle;\n",
       "    }\n",
       "\n",
       "    .dataframe tbody tr th {\n",
       "        vertical-align: top;\n",
       "    }\n",
       "\n",
       "    .dataframe thead th {\n",
       "        text-align: right;\n",
       "    }\n",
       "</style>\n",
       "<table border=\"1\" class=\"dataframe\">\n",
       "  <thead>\n",
       "    <tr style=\"text-align: right;\">\n",
       "      <th></th>\n",
       "      <th>id</th>\n",
       "      <th>class</th>\n",
       "    </tr>\n",
       "  </thead>\n",
       "  <tbody>\n",
       "    <tr>\n",
       "      <th>0</th>\n",
       "      <td>TEST_000</td>\n",
       "      <td>0</td>\n",
       "    </tr>\n",
       "    <tr>\n",
       "      <th>1</th>\n",
       "      <td>TEST_001</td>\n",
       "      <td>1</td>\n",
       "    </tr>\n",
       "    <tr>\n",
       "      <th>2</th>\n",
       "      <td>TEST_002</td>\n",
       "      <td>2</td>\n",
       "    </tr>\n",
       "    <tr>\n",
       "      <th>3</th>\n",
       "      <td>TEST_003</td>\n",
       "      <td>1</td>\n",
       "    </tr>\n",
       "    <tr>\n",
       "      <th>4</th>\n",
       "      <td>TEST_004</td>\n",
       "      <td>0</td>\n",
       "    </tr>\n",
       "    <tr>\n",
       "      <th>...</th>\n",
       "      <td>...</td>\n",
       "      <td>...</td>\n",
       "    </tr>\n",
       "    <tr>\n",
       "      <th>170</th>\n",
       "      <td>TEST_170</td>\n",
       "      <td>1</td>\n",
       "    </tr>\n",
       "    <tr>\n",
       "      <th>171</th>\n",
       "      <td>TEST_171</td>\n",
       "      <td>2</td>\n",
       "    </tr>\n",
       "    <tr>\n",
       "      <th>172</th>\n",
       "      <td>TEST_172</td>\n",
       "      <td>2</td>\n",
       "    </tr>\n",
       "    <tr>\n",
       "      <th>173</th>\n",
       "      <td>TEST_173</td>\n",
       "      <td>1</td>\n",
       "    </tr>\n",
       "    <tr>\n",
       "      <th>174</th>\n",
       "      <td>TEST_174</td>\n",
       "      <td>1</td>\n",
       "    </tr>\n",
       "  </tbody>\n",
       "</table>\n",
       "<p>175 rows × 2 columns</p>\n",
       "</div>"
      ],
      "text/plain": [
       "           id  class\n",
       "0    TEST_000      0\n",
       "1    TEST_001      1\n",
       "2    TEST_002      2\n",
       "3    TEST_003      1\n",
       "4    TEST_004      0\n",
       "..        ...    ...\n",
       "170  TEST_170      1\n",
       "171  TEST_171      2\n",
       "172  TEST_172      2\n",
       "173  TEST_173      1\n",
       "174  TEST_174      1\n",
       "\n",
       "[175 rows x 2 columns]"
      ]
     },
     "execution_count": 242,
     "metadata": {},
     "output_type": "execute_result"
    }
   ],
   "source": [
    "submit"
   ]
  },
  {
   "cell_type": "code",
   "execution_count": 257,
   "id": "58d59d36-c023-4ded-8734-bd7cef2efc01",
   "metadata": {},
   "outputs": [],
   "source": [
    "submit.to_csv('./answer/submit.csv', index=False)"
   ]
  }
 ],
 "metadata": {
  "kernelspec": {
   "display_name": "Python 3 (ipykernel)",
   "language": "python",
   "name": "python3"
  },
  "language_info": {
   "codemirror_mode": {
    "name": "ipython",
    "version": 3
   },
   "file_extension": ".py",
   "mimetype": "text/x-python",
   "name": "python",
   "nbconvert_exporter": "python",
   "pygments_lexer": "ipython3",
   "version": "3.9.12"
  }
 },
 "nbformat": 4,
 "nbformat_minor": 5
}
